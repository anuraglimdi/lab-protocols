{
 "cells": [
  {
   "cell_type": "markdown",
   "metadata": {},
   "source": [
    "### Goal of the Notebook:\n",
    "\n",
    "I have a collection of 16 forward and reverse primers for my TnSeq experiment. With this script I want to figure out which Nextera primers (ordered by Kaylee) are compatible with my primer set.\n",
    "\n",
    "Compatibility is defined as primers having a Hamming distance of at least 3 from all the primers in my forward and reverse set"
   ]
  },
  {
   "cell_type": "markdown",
   "metadata": {},
   "source": [
    "NOTE: Another potential concern with selecting barcodes is color balance. However, given that we have over 25 n7xx and s5xx barcodes, this should not be an major issue "
   ]
  },
  {
   "cell_type": "code",
   "execution_count": 1,
   "metadata": {},
   "outputs": [],
   "source": [
    "import numpy as np"
   ]
  },
  {
   "cell_type": "code",
   "execution_count": 2,
   "metadata": {},
   "outputs": [],
   "source": [
    "def hamming_distance(str1, str2):\n",
    "    #just asserting that the strings are equal in length. If not, Hamming distance doesn't make sense\n",
    "    assert len(str1)==len(str2), 'DNA Barcodes arent equal in length'\n",
    "    #basically counting how many positions are different\n",
    "    return sum(char1 != char2 for char1, char2 in zip(str1, str2))"
   ]
  },
  {
   "cell_type": "code",
   "execution_count": 12,
   "metadata": {},
   "outputs": [],
   "source": [
    "#importing all the fasta files\n",
    "#forward primer indices\n",
    "with open('tnseq_forward_indices.txt', 'r') as in_handle:\n",
    "    tnseq_f = in_handle.read().splitlines()\n",
    "#reverse primer indices\n",
    "with open('tnseq_reverse_indices.txt', 'r') as in_handle:\n",
    "    tnseq_r = in_handle.read().splitlines()\n",
    "#s5xx series indices\n",
    "with open('nextera_s5xx.txt', 'r') as in_handle:\n",
    "    nxt_s5xx = in_handle.read().splitlines()\n",
    "#s5xx series indices\n",
    "with open('nextera_n7xx.txt', 'r') as in_handle:\n",
    "    nxt_n7xx = in_handle.read().splitlines()"
   ]
  },
  {
   "cell_type": "markdown",
   "metadata": {},
   "source": [
    "The fasta files are in the following format:\n",
    "\n",
    "\\> barcode name \n",
    "\n",
    "ATCGATCG\n",
    "\n",
    "So, I extract every second line, which will contain the barcode sequence"
   ]
  },
  {
   "cell_type": "code",
   "execution_count": 18,
   "metadata": {},
   "outputs": [],
   "source": [
    "#now I'll split the array of strings into one with barcodes\n",
    "tnseq_f_index = [tnseq_f[2*i+1] for i in range(0, int(len(tnseq_f)/2))]\n",
    "tnseq_r_index = [tnseq_r[2*i+1] for i in range(0, int(len(tnseq_r)/2))]\n",
    "nxt_s5xx_index = [nxt_s5xx[2*i+1] for i in range(0, int(len(nxt_s5xx)/2))]\n",
    "nxt_n7xx_index = [nxt_n7xx[2*i+1] for i in range(0, int(len(nxt_n7xx)/2))]"
   ]
  },
  {
   "cell_type": "code",
   "execution_count": 28,
   "metadata": {},
   "outputs": [],
   "source": [
    "#minimum Hamming distance I'll require for a barcode to be used for analysis\n",
    "ham_thresh = 4"
   ]
  },
  {
   "cell_type": "code",
   "execution_count": 29,
   "metadata": {},
   "outputs": [
    {
     "name": "stdout",
     "output_type": "stream",
     "text": [
      ">S501\n",
      "TAGATCGC\n",
      ">S502\n",
      "CTCTCTAT\n",
      ">S503\n",
      "TATCCTCT\n",
      ">S506\n",
      "ACTGCATA\n",
      ">S507\n",
      "AAGGAGTA\n",
      ">S509\n",
      "GGCTACTC\n",
      ">S510\n",
      "CCTCAGAC\n",
      ">S511\n",
      "TCCTTACG\n",
      ">S512\n",
      "ACGCGTGG\n",
      ">S513\n",
      "GGAACTCC\n",
      ">S514\n",
      "TGGCCATG\n",
      ">S516\n",
      "CGCGGTTA\n",
      ">S517\n",
      "GACCGCCA\n",
      ">S518\n",
      "TAAGATGG\n",
      ">S519\n",
      "ATTGACAT\n",
      ">S520\n",
      "AGCCAACT\n",
      ">S521\n",
      "TACTAGGT\n",
      ">S522\n",
      "TCACGGTT\n",
      ">S523\n",
      "TGTAATGA\n",
      ">S524\n",
      "CACGTCAG\n",
      ">S525\n",
      "CTGAATTC\n",
      ">S526\n",
      "CGTACCGG\n",
      ">S528\n",
      "TATAGACG\n",
      ">S529\n",
      "GTCATTGA\n",
      ">S530\n",
      "GCATCGTT\n",
      ">S531\n",
      "AGGTTGAC\n",
      ">S532\n",
      "TGAAACTG\n",
      ">S533\n",
      "CAATCACA\n",
      ">S534\n",
      "ACATGCAA\n",
      ">S535\n",
      "ATCGCGCC\n",
      ">S536\n",
      "TCGGTTAA\n"
     ]
    }
   ],
   "source": [
    "#comparing hamming distances for forward primers\n",
    "for i in range(0, int(len(nxt_s5xx_index))):\n",
    "    dist = ham_thresh\n",
    "    test_index = nxt_s5xx_index[i]\n",
    "    for j in range(0, int(len(tnseq_f)/2)):\n",
    "        dist = min(dist, hamming_distance(test_index, tnseq_f_index[j]))\n",
    "    if dist==ham_thresh:\n",
    "        print(nxt_s5xx[2*i])\n",
    "        print(nxt_s5xx[2*i+1])"
   ]
  },
  {
   "cell_type": "code",
   "execution_count": 31,
   "metadata": {},
   "outputs": [
    {
     "name": "stdout",
     "output_type": "stream",
     "text": [
      ">N701\n",
      "TCGCCTTA\n",
      ">N703\n",
      "TTCTGCCT\n",
      ">N704\n",
      "GCTCAGGA\n",
      ">N705\n",
      "AGGAGTCC\n",
      ">N707\n",
      "GTAGAGAG\n",
      ">N708\n",
      "CCTCTCTG\n",
      ">N709\n",
      "AGCGTAGC\n",
      ">N710\n",
      "CAGCCTCG\n",
      ">N711\n",
      "TGCCTCTT\n",
      ">N712\n",
      "TCCTCTAC\n",
      ">N713\n",
      "ATTACAAT\n",
      ">N714\n",
      "GAATGATC\n",
      ">N716\n",
      "AATAACGG\n",
      ">N717\n",
      "TAGAAGAA\n",
      ">N718\n",
      "GTCAGGTA\n",
      ">N719\n",
      "GCGGTCCT\n",
      ">N720\n",
      "AATCGGAC\n",
      ">N721\n",
      "AACTCGTG\n",
      ">N722\n",
      "GGCCGTGG\n",
      ">N723\n",
      "TTACATGT\n",
      ">N724\n",
      "AGTTAACA\n"
     ]
    }
   ],
   "source": [
    "#comparing hamming distances for reverse primers\n",
    "for i in range(0, int(len(nxt_n7xx_index))):\n",
    "    dist = ham_thresh\n",
    "    test_index = nxt_n7xx_index[i]\n",
    "    for j in range(0, int(len(tnseq_r)/2)):\n",
    "        dist = min(dist, hamming_distance(test_index, tnseq_r_index[j]))\n",
    "    if dist==ham_thresh:\n",
    "        print(nxt_n7xx[2*i])\n",
    "        print(nxt_n7xx[2*i+1])"
   ]
  },
  {
   "cell_type": "markdown",
   "metadata": {},
   "source": [
    "### These are the Nextera index (barcode) sequences that are compatible with my TnSeq primer index sequences"
   ]
  },
  {
   "cell_type": "code",
   "execution_count": null,
   "metadata": {},
   "outputs": [],
   "source": []
  }
 ],
 "metadata": {
  "kernelspec": {
   "display_name": "Python 3 (ipykernel)",
   "language": "python",
   "name": "python3"
  },
  "language_info": {
   "codemirror_mode": {
    "name": "ipython",
    "version": 3
   },
   "file_extension": ".py",
   "mimetype": "text/x-python",
   "name": "python",
   "nbconvert_exporter": "python",
   "pygments_lexer": "ipython3",
   "version": "3.10.4"
  }
 },
 "nbformat": 4,
 "nbformat_minor": 2
}
